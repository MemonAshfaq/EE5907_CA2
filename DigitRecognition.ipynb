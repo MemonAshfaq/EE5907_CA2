{
 "cells": [
  {
   "cell_type": "code",
   "execution_count": 1,
   "metadata": {},
   "outputs": [],
   "source": [
    "import numpy as np\n",
    "from pylab import imshow, show, savefig,cm"
   ]
  },
  {
   "cell_type": "code",
   "execution_count": 2,
   "metadata": {},
   "outputs": [],
   "source": [
    "def view_image(image):\n",
    "    \"\"\"View a single image.\"\"\"\n",
    "    imshow(image, cmap=cm.gray)\n",
    "    savefig(\"Image.jpg\")\n",
    "    show()"
   ]
  },
  {
   "cell_type": "code",
   "execution_count": 3,
   "metadata": {},
   "outputs": [],
   "source": [
    "FILES_DIR = '.\\\\MNIST_Data\\\\'\n",
    "TRAIN_FILE = 'train-images.idx3-ubyte'\n",
    "TRAIN_LABEL = 'train-labels.idx1-ubyte'\n",
    "TEST_FILE = 't10k-images.idx3-ubyte'\n",
    "TEST_LABEL = 't10k-labels.idx1-ubyte'"
   ]
  },
  {
   "cell_type": "code",
   "execution_count": 4,
   "metadata": {},
   "outputs": [
    {
     "name": "stdout",
     "output_type": "stream",
     "text": [
      "Size of the training set:  (60000, 784)\n",
      "Size of the training labels:  (60000,)\n",
      "Size of the test set:  (10000, 784)\n",
      "Size of the test labels:  (10000,)\n"
     ]
    }
   ],
   "source": [
    "with open(FILES_DIR + TRAIN_FILE,'rb') as ftemp:\n",
    "    datatemp = np.fromfile(ftemp, dtype = np.ubyte)\n",
    "    trainingData=datatemp[16::].reshape(60000,784)\n",
    "    print('Size of the training set: ',trainingData.shape)\n",
    "    \n",
    "with open(FILES_DIR + TRAIN_LABEL,'rb') as ftemp:\n",
    "    datatemp = np.fromfile(ftemp, dtype = np.ubyte)\n",
    "    trainingLabels=datatemp[8::]\n",
    "    print('Size of the training labels: ',trainingLabels.shape)\n",
    "\n",
    "with open(FILES_DIR + TEST_FILE) as ftemp:\n",
    "    datatemp = np.fromfile(ftemp, dtype = np.ubyte)\n",
    "    testData=datatemp[16::].reshape(10000,784)\n",
    "    print('Size of the test set: ',testData.shape)\n",
    "\n",
    "with open(FILES_DIR + TEST_LABEL,'rb') as ftemp:\n",
    "    datatemp = np.fromfile(ftemp, dtype = np.ubyte)\n",
    "    testLabels=datatemp[8::]\n",
    "    print('Size of the test labels: ',testLabels.shape)"
   ]
  },
  {
   "cell_type": "code",
   "execution_count": 5,
   "metadata": {},
   "outputs": [],
   "source": [
    "mean_train_images = np.zeros((10, 784), dtype=float)\n",
    "for i in range(10):\n",
    "\tmean_train_images[i,:] = np.mean(trainingData[np.where(trainingLabels == i)[0],:], axis=0)"
   ]
  },
  {
   "cell_type": "code",
   "execution_count": 6,
   "metadata": {},
   "outputs": [
    {
     "data": {
      "image/png": "[encoded data removed]",
      "text/plain": [
       "<Figure size 432x288 with 1 Axes>"
      ]
     },
     "metadata": {
      "needs_background": "light"
     },
     "output_type": "display_data"
    }
   ],
   "source": [
    "view_image(mean_train_images[1].reshape(28,28))"
   ]
  },
  {
   "cell_type": "code",
   "execution_count": null,
   "metadata": {},
   "outputs": [],
   "source": []
  }
 ],
 "metadata": {
  "kernelspec": {
   "display_name": "Python 3",
   "language": "python",
   "name": "python3"
  },
  "language_info": {
   "codemirror_mode": {
    "name": "ipython",
    "version": 3
   },
   "file_extension": ".py",
   "mimetype": "text/x-python",
   "name": "python",
   "nbconvert_exporter": "python",
   "pygments_lexer": "ipython3",
   "version": "3.7.4"
  }
 },
 "nbformat": 4,
 "nbformat_minor": 2
}
