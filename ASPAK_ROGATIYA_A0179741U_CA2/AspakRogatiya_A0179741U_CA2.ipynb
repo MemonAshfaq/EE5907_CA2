{
 "cells": [
  {
   "cell_type": "markdown",
   "metadata": {},
   "source": [
    "![NUS](img/nus-logo.jpg)\n",
    "\n",
    "========================================================================================================================\n",
    "\n",
    "# Pattern Recognition (EE5907)\n",
    "## Assignment CA2\n",
    "## Matriculation: A0179741U\n",
    "## Name: Rogatiya Mohmad Aspak Arif\n",
    "========================================================================================================================"
   ]
  },
  {
   "cell_type": "code",
   "execution_count": 1,
   "metadata": {},
   "outputs": [],
   "source": [
    "# Import necessary packages\n",
    "import numpy as np\n",
    "from pylab import imshow, show, savefig, cm\n",
    "import matplotlib.pylab as plt\n",
    "from sklearn.preprocessing import StandardScaler\n",
    "from itertools import combinations_with_replacement"
   ]
  },
  {
   "cell_type": "code",
   "execution_count": 2,
   "metadata": {},
   "outputs": [],
   "source": [
    "# Define constants for polynomial order and top eigenvectors\n",
    "POLYNOMIAL_ORDER = 2\n",
    "TOP_EIGENVECTORS = 30\n",
    "\n",
    "# Include or exclude bias term\n",
    "INCLUDE_BIAS = True"
   ]
  },
  {
   "cell_type": "markdown",
   "metadata": {},
   "source": [
    "# (a) Load MNIST datasets"
   ]
  },
  {
   "cell_type": "code",
   "execution_count": 3,
   "metadata": {},
   "outputs": [],
   "source": [
    "# Define constants for files and folder locations\n",
    "FILES_DIR = '.\\\\MNIST_Data\\\\'\n",
    "TRAIN_FILE = 'train-images.idx3-ubyte'\n",
    "TRAIN_LABEL = 'train-labels-idx1-ubyte'\n",
    "TEST_FILE = 't10k-images-idx3-ubyte'\n",
    "TEST_LABEL = 't10k-labels-idx1-ubyte'"
   ]
  },
  {
   "cell_type": "code",
   "execution_count": 4,
   "metadata": {},
   "outputs": [
    {
     "name": "stdout",
     "output_type": "stream",
     "text": [
      "Size of the training set:  (60000, 784)\n",
      "Size of the training labels:  (60000,)\n",
      "Size of the test set:  (10000, 784)\n",
      "Size of the test labels:  (10000,)\n"
     ]
    }
   ],
   "source": [
    "# Read MNIST training/test data/lbels\n",
    "\n",
    "# Read training data\n",
    "with open(FILES_DIR + TRAIN_FILE,'rb') as ftemp:\n",
    "    datatemp = np.fromfile(ftemp, dtype = np.ubyte)\n",
    "    trainingData=datatemp[16::].reshape(60000,784)\n",
    "    print('Size of the training set: ',trainingData.shape)\n",
    "\n",
    "# Read training labels\n",
    "with open(FILES_DIR + TRAIN_LABEL,'rb') as ftemp:\n",
    "    datatemp = np.fromfile(ftemp, dtype = np.ubyte)\n",
    "    trainingLabels=datatemp[8::]\n",
    "    print('Size of the training labels: ',trainingLabels.shape)\n",
    "\n",
    "# Read test data\n",
    "with open(FILES_DIR + TEST_FILE) as ftemp:\n",
    "    datatemp = np.fromfile(ftemp, dtype = np.ubyte)\n",
    "    testData=datatemp[16::].reshape(10000,784)\n",
    "    print('Size of the test set: ',testData.shape)\n",
    "\n",
    "# Read test labels\n",
    "with open(FILES_DIR + TEST_LABEL,'rb') as ftemp:\n",
    "    datatemp = np.fromfile(ftemp, dtype = np.ubyte)\n",
    "    testLabels=datatemp[8::]\n",
    "    print('Size of the test labels: ',testLabels.shape)"
   ]
  },
  {
   "cell_type": "markdown",
   "metadata": {},
   "source": [
    "# (b) Calculating Eigenvalues and Eigenvectors for Features Extraction"
   ]
  },
  {
   "cell_type": "code",
   "execution_count": 5,
   "metadata": {},
   "outputs": [
    {
     "name": "stdout",
     "output_type": "stream",
     "text": [
      "(784,)\n"
     ]
    }
   ],
   "source": [
    "# Use fit_transform method to normalize/standardize the training data. This will be used in later steps.\n",
    "trainingStd = StandardScaler().fit_transform(trainingData)\n",
    "\n",
    "# Calculate mean of the training data. This will be used in later steps.\n",
    "trainingMean = np.mean(trainingStd, axis=0)\n",
    "print (trainingMean.shape)"
   ]
  },
  {
   "cell_type": "code",
   "execution_count": 6,
   "metadata": {},
   "outputs": [
    {
     "name": "stdout",
     "output_type": "stream",
     "text": [
      "**********************************\n",
      "Covariance matrix:  (784, 784)\n",
      "**********************************\n"
     ]
    }
   ],
   "source": [
    "# Calculate Covariance matrix.\n",
    "covMatx = np.cov(trainingStd.T)\n",
    "\n",
    "print (\"**********************************\")\n",
    "print (\"Covariance matrix: \", covMatx.shape)\n",
    "print (\"**********************************\")"
   ]
  },
  {
   "cell_type": "code",
   "execution_count": 7,
   "metadata": {},
   "outputs": [
    {
     "name": "stdout",
     "output_type": "stream",
     "text": [
      "**********************************\n",
      "eigenVals shape:  (784,)\n",
      "eigenVecs shape:  (784, 784)\n",
      "**********************************\n"
     ]
    }
   ],
   "source": [
    "# Calculate eigenvalues and eigenvectors\n",
    "eigenVals, eigenVecs = np.linalg.eig(covMatx)\n",
    "\n",
    "print (\"**********************************\")\n",
    "print (\"eigenVals shape: \", eigenVals.shape)\n",
    "print (\"eigenVecs shape: \", eigenVecs.shape)\n",
    "print (\"**********************************\")"
   ]
  },
  {
   "cell_type": "code",
   "execution_count": 8,
   "metadata": {},
   "outputs": [],
   "source": [
    "# Generate a tuple of eigenvalues and eigenvectors.\n",
    "eigenValVec = [(np.abs(eigenVals[i]), eigenVecs[:,i]) for i in range(len(eigenVals))]\n",
    "\n",
    "# Sort the eigenvectors based on eigenvalues\n",
    "eigenValVec = sorted(eigenValVec, reverse=True, key=lambda x:x[0])"
   ]
  },
  {
   "cell_type": "markdown",
   "metadata": {},
   "source": [
    "## Visualize the top 10 eigenvectors"
   ]
  },
  {
   "cell_type": "code",
   "execution_count": 9,
   "metadata": {
    "scrolled": false
   },
   "outputs": [
    {
     "data": {
      "image/png": "[encoded data removed]",
      "text/plain": [
       "<Figure size 3600x3600 with 10 Axes>"
      ]
     },
     "metadata": {
      "needs_background": "light"
     },
     "output_type": "display_data"
    }
   ],
   "source": [
    "# Visualize the top 10 eigenvectors\n",
    "f,ax = plt.subplots(1,10,figsize=(50,50))\n",
    "for i in range(10):\n",
    "    ax[i].imshow(eigenValVec[i][1].reshape(28,28))\n",
    "plt.show()"
   ]
  },
  {
   "cell_type": "markdown",
   "metadata": {},
   "source": [
    "# (b) (1) First Row: Display selected images from original training set."
   ]
  },
  {
   "cell_type": "code",
   "execution_count": 10,
   "metadata": {
    "scrolled": true
   },
   "outputs": [
    {
     "name": "stdout",
     "output_type": "stream",
     "text": [
      "[ 2  4  6  8 10 12 14 16 18 20]\n"
     ]
    }
   ],
   "source": [
    "# Create a list of selected training digits asked in the assignment question\n",
    "trainDigitList = np.arange(2,21,2)\n",
    "print (trainDigitList)"
   ]
  },
  {
   "cell_type": "markdown",
   "metadata": {},
   "source": [
    "# (b) (2) Second Row: Display reconstructed images from the test set."
   ]
  },
  {
   "cell_type": "code",
   "execution_count": 11,
   "metadata": {},
   "outputs": [
    {
     "name": "stdout",
     "output_type": "stream",
     "text": [
      "[ 4  3  2 19  5  9 12  1 62  8]\n"
     ]
    }
   ],
   "source": [
    "# Create a list of selected test digits asked in the assignment question\n",
    "testDigitList = np.asarray([4, 3, 2, 19, 5, 9, 12, 1, 62, 8])\n",
    "print (testDigitList)"
   ]
  },
  {
   "cell_type": "code",
   "execution_count": 12,
   "metadata": {},
   "outputs": [],
   "source": [
    "# Create an empty list of reconstructed digits\n",
    "reconstructedTestDigits = []\n",
    "\n",
    "# Loop through the test digits list\n",
    "for idx, digit in enumerate(testDigitList):\n",
    "    # Calculate lambda by multiplying each sample with eigenvectors.\n",
    "    lambdas = []\n",
    "    for i in range(TOP_EIGENVECTORS):\n",
    "        lambdas.append(testData[digit-1].T.dot(eigenValVec[i][1]))\n",
    "    # reconstruct each test digit by the sum of the product between the λi and top 30 eigenvectors\n",
    "    digitNew = np.zeros(784)\n",
    "    for i in range(TOP_EIGENVECTORS):\n",
    "        digitNew += lambdas[i]*eigenValVec[i][1]\n",
    "    \n",
    "    # append to reconstructed digit to list\n",
    "    reconstructedTestDigits.append(digitNew)"
   ]
  },
  {
   "cell_type": "markdown",
   "metadata": {},
   "source": [
    "## Visualize selected training and reconstructed test digits"
   ]
  },
  {
   "cell_type": "code",
   "execution_count": 13,
   "metadata": {},
   "outputs": [
    {
     "data": {
      "image/png": "[encoded data removed]",
      "text/plain": [
       "<Figure size 3600x3600 with 10 Axes>"
      ]
     },
     "metadata": {
      "needs_background": "light"
     },
     "output_type": "display_data"
    },
    {
     "data": {
      "image/png": "[encoded data removed]",
      "text/plain": [
       "<Figure size 3600x3600 with 10 Axes>"
      ]
     },
     "metadata": {
      "needs_background": "light"
     },
     "output_type": "display_data"
    }
   ],
   "source": [
    "# First row of selected training digits\n",
    "f,ax = plt.subplots(1,10,figsize=(50,50))\n",
    "for idx,digit in enumerate(trainDigitList):\n",
    "    ax[idx].imshow(trainingData[digit-1].reshape(28,28))\n",
    "plt.show()\n",
    "\n",
    "# Second row of reconstructed selected test digits\n",
    "f,ax = plt.subplots(1,10,figsize=(50,50))\n",
    "for idx in range(10):\n",
    "    ax[idx].imshow(reconstructedTestDigits[idx].reshape(28,28))\n",
    "plt.show()"
   ]
  },
  {
   "cell_type": "markdown",
   "metadata": {},
   "source": [
    "# (c) Using Eigen-digits to Classify each digit image"
   ]
  },
  {
   "cell_type": "code",
   "execution_count": 14,
   "metadata": {},
   "outputs": [],
   "source": [
    "# Standardize training dataset\n",
    "trainingStd = StandardScaler().fit_transform(trainingData)\n",
    "# Standardize test dataset\n",
    "testStd = StandardScaler().fit_transform(testData)\n",
    "\n",
    "# Calculate mean of the training dataset\n",
    "trainingMean = np.mean(trainingStd, axis=0)\n",
    "\n",
    "# Normalize train and test datasets by subtracting training mean.\n",
    "normedTrain = np.subtract(trainingStd,trainingMean)\n",
    "normedTest = np.subtract(testStd,trainingMean)"
   ]
  },
  {
   "cell_type": "code",
   "execution_count": 15,
   "metadata": {},
   "outputs": [
    {
     "name": "stdout",
     "output_type": "stream",
     "text": [
      "*****************************\n",
      "top30EigenVecs shape: (30, 784)\n",
      "*****************************\n"
     ]
    }
   ],
   "source": [
    "# Extract top30 eigenvectors from the sorted array of tuples we had created above.\n",
    "top30EigenVecs = []\n",
    "for i in range(TOP_EIGENVECTORS):\n",
    "    top30EigenVecs.append(eigenValVec[i][1])\n",
    "top30EigenVecs = np.asarray(top30EigenVecs)\n",
    "\n",
    "print (\"*****************************\")\n",
    "print (\"top30EigenVecs shape:\", top30EigenVecs.shape)\n",
    "print (\"*****************************\")"
   ]
  },
  {
   "cell_type": "markdown",
   "metadata": {},
   "source": [
    "## Project training datapoints into the subspace spanned by top 30 eigenvectors "
   ]
  },
  {
   "cell_type": "code",
   "execution_count": 16,
   "metadata": {},
   "outputs": [
    {
     "name": "stdout",
     "output_type": "stream",
     "text": [
      "************************************\n",
      "normedTrain shape: (60000, 30)\n",
      "************************************\n"
     ]
    }
   ],
   "source": [
    "# Project training datapoints into the subspace spanned by top 30 eigenvectors \n",
    "\n",
    "# Loop through each training digits\n",
    "for idx, digit in enumerate(normedTrain):\n",
    "    # Calculate lambda by multiplying each sample with eigenvectors.\n",
    "    lambdas = []\n",
    "    for i in range(TOP_EIGENVECTORS):\n",
    "        lambdas.append(normedTrain[idx].T.dot(eigenValVec[i][1]))\n",
    "\n",
    "    # reconstruct each test digit by the sum of the product between the λi and top 30 eigenvectors\n",
    "    digitNew = np.zeros(784)\n",
    "    for i in range(TOP_EIGENVECTORS):\n",
    "        digitNew += lambdas[i]*eigenValVec[i][1]\n",
    "    normedTrain[idx] = digitNew\n",
    "\n",
    "# Project training datapoints into the subspace spanned by top 30 eigenvectors    \n",
    "normedTrain = np.dot(normedTrain,top30EigenVecs.T)\n",
    "print (\"************************************\")\n",
    "print (\"normedTrain shape:\",normedTrain.shape)\n",
    "print (\"************************************\")"
   ]
  },
  {
   "cell_type": "markdown",
   "metadata": {},
   "source": [
    "## Project test datapoints into the subspace spanned by top 30 eigenvectors"
   ]
  },
  {
   "cell_type": "code",
   "execution_count": 17,
   "metadata": {},
   "outputs": [
    {
     "name": "stdout",
     "output_type": "stream",
     "text": [
      "************************************\n",
      "normedTest shape: (10000, 30)\n",
      "************************************\n"
     ]
    }
   ],
   "source": [
    "# Project test datapoints into the subspace spanned by top 30 eigenvectors\n",
    "\n",
    "# Loop through each test digits\n",
    "for idx, digit in enumerate(normedTest):\n",
    "    # Calculate lambda by multiplying each sample with eigenvectors.\n",
    "    lambdas = []\n",
    "    for i in range(TOP_EIGENVECTORS):\n",
    "        lambdas.append(normedTest[idx].T.dot(eigenValVec[i][1]))\n",
    "\n",
    "    # reconstruct each test digit by the sum of the product between the λi and top 30 eigenvectors\n",
    "    digitNew = np.zeros(784)\n",
    "    for i in range(TOP_EIGENVECTORS):\n",
    "        digitNew += lambdas[i]*eigenValVec[i][1]\n",
    "    normedTest[idx] = digitNew\n",
    "\n",
    "# Project training datapoints into the subspace spanned by top 30 eigenvectors    \n",
    "normedTest = np.dot(normedTest,top30EigenVecs.T)\n",
    "\n",
    "print (\"************************************\")\n",
    "print (\"normedTest shape:\",normedTest.shape)\n",
    "print (\"************************************\")\n"
   ]
  },
  {
   "cell_type": "markdown",
   "metadata": {},
   "source": [
    "# (c) (1) Linear Regression"
   ]
  },
  {
   "cell_type": "markdown",
   "metadata": {},
   "source": [
    "## Sort the training data (prepare for Y matrix)"
   ]
  },
  {
   "cell_type": "code",
   "execution_count": 18,
   "metadata": {},
   "outputs": [
    {
     "name": "stdout",
     "output_type": "stream",
     "text": [
      "*********************************\n",
      "sortedNormedTrain shape: (60000, 30)\n",
      "*********************************\n"
     ]
    }
   ],
   "source": [
    "# sort the training data based on training labels. It will be used to generate Y matrix for linear regression.\n",
    "sortedNormedTrain = []\n",
    "for i in range(0,60000,1):\n",
    "    sortedNormedTrain += (normedTrain[trainingLabels==i].tolist())\n",
    "\n",
    "# Convert it to nparray\n",
    "sortedNormedTrain = np.asarray(sortedNormedTrain)\n",
    "\n",
    "# Make sure the shape hasn't changed.\n",
    "print (\"*********************************\")\n",
    "print (\"sortedNormedTrain shape:\", sortedNormedTrain.shape)\n",
    "print (\"*********************************\")"
   ]
  },
  {
   "cell_type": "markdown",
   "metadata": {},
   "source": [
    "## Sort the training labels."
   ]
  },
  {
   "cell_type": "code",
   "execution_count": 19,
   "metadata": {},
   "outputs": [
    {
     "name": "stdout",
     "output_type": "stream",
     "text": [
      "sortedTrainLabels:  [0 0 0 ... 9 9 9]\n",
      "************************************\n",
      "sortedTrainLabels shape: (60000,)\n",
      "************************************\n"
     ]
    }
   ],
   "source": [
    "# Sort the training labels because we have sorted the training data. It will be used to calculate the accuracy.\n",
    "sortedTrainLabels = np.sort(trainingLabels)\n",
    "\n",
    "# print sorted labels\n",
    "print (\"sortedTrainLabels: \", sortedTrainLabels)\n",
    "print (\"************************************\")\n",
    "print (\"sortedTrainLabels shape:\", sortedTrainLabels.shape)\n",
    "print (\"************************************\")"
   ]
  },
  {
   "cell_type": "markdown",
   "metadata": {},
   "source": [
    "## Generate Y matrix"
   ]
  },
  {
   "cell_type": "code",
   "execution_count": 20,
   "metadata": {
    "scrolled": true
   },
   "outputs": [
    {
     "name": "stdout",
     "output_type": "stream",
     "text": [
      "************************************\n",
      "Y's shape: (60000, 31)\n",
      "************************************\n"
     ]
    }
   ],
   "source": [
    "# Generate a Y matrix by appending 1's column to sorted and normalized training data\n",
    "if INCLUDE_BIAS:\n",
    "    Y = np.append(sortedNormedTrain,np.ones(60000,dtype=int).reshape(60000,1),axis=1)\n",
    "else:\n",
    "    Y = sortedNormedTrain\n",
    "print (\"************************************\")\n",
    "print (\"Y's shape:\", Y.shape)\n",
    "print (\"************************************\")"
   ]
  },
  {
   "cell_type": "markdown",
   "metadata": {},
   "source": [
    "## Generate B matrix."
   ]
  },
  {
   "cell_type": "code",
   "execution_count": 21,
   "metadata": {
    "scrolled": true
   },
   "outputs": [
    {
     "name": "stdout",
     "output_type": "stream",
     "text": [
      "************************\n",
      "B's shape:  (60000, 10)\n",
      "************************\n",
      "B Matrix:\n",
      " [[1. 0. 0. ... 0. 0. 0.]\n",
      " [1. 0. 0. ... 0. 0. 0.]\n",
      " [1. 0. 0. ... 0. 0. 0.]\n",
      " ...\n",
      " [0. 0. 0. ... 0. 0. 1.]\n",
      " [0. 0. 0. ... 0. 0. 1.]\n",
      " [0. 0. 0. ... 0. 0. 1.]] \n",
      "\n",
      "************************\n"
     ]
    }
   ],
   "source": [
    "# Create a zero matrix of size NxC (N = # of training data, C = # of class labels in training data)\n",
    "B = np.zeros((sortedTrainLabels.size, sortedTrainLabels.max()+1))\n",
    "# Put a 1 in class position in each row, to create a one-hot encoded B matrix\n",
    "B[np.arange(sortedTrainLabels.size),sortedTrainLabels] = 1\n",
    "# print B's shape\n",
    "print (\"************************\")\n",
    "print (\"B's shape: \", B.shape)\n",
    "print (\"************************\")\n",
    "print (\"B Matrix:\\n\",B,\"\\n\")\n",
    "print (\"************************\")"
   ]
  },
  {
   "cell_type": "markdown",
   "metadata": {},
   "source": [
    "## Generate A matrix"
   ]
  },
  {
   "cell_type": "code",
   "execution_count": 22,
   "metadata": {},
   "outputs": [
    {
     "name": "stdout",
     "output_type": "stream",
     "text": [
      "************************\n",
      "A's shape:  (31, 10)\n",
      "************************\n"
     ]
    }
   ],
   "source": [
    "# Generate a pseudo inverse matrix of Y and then multiply with B to generate A matrix.\n",
    "A = np.linalg.pinv(Y).dot(B)\n",
    "print (\"************************\")\n",
    "print (\"A's shape: \", A.shape) \n",
    "print (\"************************\")"
   ]
  },
  {
   "cell_type": "code",
   "execution_count": 23,
   "metadata": {},
   "outputs": [
    {
     "name": "stdout",
     "output_type": "stream",
     "text": [
      "************************\n",
      "AT's shape:  (10, 31)\n",
      "************************\n"
     ]
    }
   ],
   "source": [
    "# Get A's transpose matrix, it will be useful in next steps.\n",
    "AT = A.T\n",
    "print (\"************************\")\n",
    "print (\"AT's shape: \", AT.shape) \n",
    "print (\"************************\")"
   ]
  },
  {
   "cell_type": "markdown",
   "metadata": {},
   "source": [
    "## Predict training labels using Linear Regression "
   ]
  },
  {
   "cell_type": "code",
   "execution_count": 24,
   "metadata": {},
   "outputs": [
    {
     "name": "stdout",
     "output_type": "stream",
     "text": [
      "***********************************\n",
      "predictedLabels's shape:  (60000,)\n",
      "***********************************\n"
     ]
    }
   ],
   "source": [
    "# prepare a list of predicted labels. We will compare this list against actual training labels to calculate accuracy.\n",
    "predictedLabel = []\n",
    "\n",
    "# Run Linear Regression on each training sample.\n",
    "for j in range(60000):\n",
    "    # prepare a list of results for each digit from 0 to 9.\n",
    "    result = []\n",
    "    \n",
    "    # Loop through each digit label and run Linear Regression. Append the output to \"result\" list.\n",
    "    for i in range(10):\n",
    "        result.append(AT[i].T.dot(Y[j]))\n",
    "    \n",
    "    # Choose the class with highest probability\n",
    "    predictedLabel.append(result.index(max(result)))\n",
    "\n",
    "# Covert it to an nparray\n",
    "predictedLabels = np.asarray(predictedLabel)\n",
    "\n",
    "print (\"***********************************\")\n",
    "print (\"predictedLabels's shape: \", predictedLabels.shape)\n",
    "print (\"***********************************\")"
   ]
  },
  {
   "cell_type": "markdown",
   "metadata": {},
   "source": [
    "## Find number of accurate predictions and calculate accuracy"
   ]
  },
  {
   "cell_type": "code",
   "execution_count": 25,
   "metadata": {},
   "outputs": [
    {
     "name": "stdout",
     "output_type": "stream",
     "text": [
      "***************************\n",
      "Training accuracy:  80.67\n",
      "***************************\n"
     ]
    }
   ],
   "source": [
    "# Find total number of accurate results\n",
    "accuratePredictions = np.sum(sortedTrainLabels==predictedLabels)\n",
    "\n",
    "# Calculate accuracy %\n",
    "trainAccuracy = (accuratePredictions/60000)*100\n",
    "\n",
    "# print accuracy %\n",
    "print (\"***************************\")\n",
    "print (\"Training accuracy: \", trainAccuracy.round(2))\n",
    "print (\"***************************\")"
   ]
  },
  {
   "cell_type": "markdown",
   "metadata": {},
   "source": [
    "## Generate Y matrix for test data"
   ]
  },
  {
   "cell_type": "code",
   "execution_count": 26,
   "metadata": {},
   "outputs": [
    {
     "name": "stdout",
     "output_type": "stream",
     "text": [
      "*******************************\n",
      "yTest's shape:  (10000, 31)\n",
      "*******************************\n"
     ]
    }
   ],
   "source": [
    "# Append column of 1's at the end of normalized test data. This is similar to Y matrix we generated for training data.\n",
    "if INCLUDE_BIAS:\n",
    "    yTest = np.append(normedTest,np.ones(10000,dtype=int).reshape(10000,1),axis=1)\n",
    "else:\n",
    "    yTest = normedTest\n",
    "print (\"*******************************\")\n",
    "print (\"yTest's shape: \", yTest.shape) \n",
    "print (\"*******************************\")"
   ]
  },
  {
   "cell_type": "markdown",
   "metadata": {},
   "source": [
    "## Predict test labels using Linear Regression"
   ]
  },
  {
   "cell_type": "code",
   "execution_count": 27,
   "metadata": {},
   "outputs": [
    {
     "name": "stdout",
     "output_type": "stream",
     "text": [
      "***********************************\n",
      "predictedLabels's shape:  (10000,)\n",
      "***********************************\n"
     ]
    }
   ],
   "source": [
    "# prepare a list of predicted labels. We will compare this list against actual training labels to calculate accuracy.\n",
    "predictedLabel = []\n",
    "\n",
    "# Run Linear Regression on each test sample.\n",
    "for j in range(10000):\n",
    "    # prepare a list of results for each digit from 0 to 9.\n",
    "    result = []\n",
    "    \n",
    "    # Loop through each digit label and run Linear Regression. Append the output to \"result\" list.\n",
    "    for i in range(10):\n",
    "        result.append(AT[i].T.dot(yTest[j]))\n",
    "    \n",
    "    # Choose the class with highest probability\n",
    "    predictedLabel.append(result.index(max(result)))\n",
    "\n",
    "# Covert it to an nparray\n",
    "predictedLabels = np.asarray(predictedLabel)\n",
    "\n",
    "print (\"***********************************\")\n",
    "print (\"predictedLabels's shape: \", predictedLabels.shape)\n",
    "print (\"***********************************\")"
   ]
  },
  {
   "cell_type": "markdown",
   "metadata": {},
   "source": [
    "## Find number of accurate predictions and calculate accuracy"
   ]
  },
  {
   "cell_type": "code",
   "execution_count": 28,
   "metadata": {},
   "outputs": [
    {
     "name": "stdout",
     "output_type": "stream",
     "text": [
      "***************************\n",
      "Test accuracy:  81.44\n",
      "***************************\n"
     ]
    }
   ],
   "source": [
    "# Find total number of accurate results\n",
    "accuratePredictions = np.sum(testLabels==predictedLabels)\n",
    "\n",
    "# Calculate accuracy %\n",
    "testAccuracy = (accuratePredictions/10000)*100\n",
    "\n",
    "# print accuracy %\n",
    "print (\"***************************\")\n",
    "print (\"Test accuracy: \", testAccuracy.round(2))\n",
    "print (\"***************************\")"
   ]
  },
  {
   "cell_type": "markdown",
   "metadata": {},
   "source": [
    "# (c) (2) Polynomial Regression"
   ]
  },
  {
   "cell_type": "markdown",
   "metadata": {},
   "source": [
    "## Generate a Y matrix for Polynomial Regression"
   ]
  },
  {
   "cell_type": "code",
   "execution_count": 29,
   "metadata": {
    "scrolled": true
   },
   "outputs": [
    {
     "name": "stdout",
     "output_type": "stream",
     "text": [
      "***************************\n",
      "Y's shape:  (60000, 496)\n",
      "***************************\n"
     ]
    }
   ],
   "source": [
    "# Create a list for Y matrix used in Polynomial Regression\n",
    "poly_Y = []\n",
    "\n",
    "for y in (Y):\n",
    "    # Generate combinations of polynomial terms based on polynomial order.\n",
    "    combinations = np.asarray(list(combinations_with_replacement(y,POLYNOMIAL_ORDER)))\n",
    "    # Get a product of each combination\n",
    "    prodCombinations = np.prod(combinations,axis=1)\n",
    "    # Append each product to polynomial Y matrix\n",
    "    poly_Y.append(prodCombinations)\n",
    "\n",
    "# Convert it to nparray type.\n",
    "poly_Y = np.asarray(poly_Y)\n",
    "\n",
    "print (\"***************************\")\n",
    "print (\"Y's shape: \", poly_Y.shape)\n",
    "print (\"***************************\")"
   ]
  },
  {
   "cell_type": "markdown",
   "metadata": {},
   "source": [
    "## Generate A matrix for Polynomial Regression"
   ]
  },
  {
   "cell_type": "code",
   "execution_count": 30,
   "metadata": {},
   "outputs": [
    {
     "name": "stdout",
     "output_type": "stream",
     "text": [
      "***************************\n",
      "A's shape:  (496, 10)\n",
      "***************************\n"
     ]
    }
   ],
   "source": [
    "# Generate A matrix for polynomial regression\n",
    "poly_A = np.linalg.pinv(poly_Y).dot(B)\n",
    "\n",
    "print (\"***************************\")\n",
    "print (\"A's shape: \", poly_A.shape)\n",
    "print (\"***************************\")"
   ]
  },
  {
   "cell_type": "markdown",
   "metadata": {},
   "source": [
    "### Transpose A matrix. It will be used during Polynomial Regression classification."
   ]
  },
  {
   "cell_type": "code",
   "execution_count": 31,
   "metadata": {},
   "outputs": [
    {
     "name": "stdout",
     "output_type": "stream",
     "text": [
      "***************************\n",
      "A transpose shape:  (10, 496)\n",
      "***************************\n"
     ]
    }
   ],
   "source": [
    "# Get A's transpose matrix, it will be useful in next steps.\n",
    "poly_AT = poly_A.T\n",
    "\n",
    "print (\"***************************\")\n",
    "print (\"A transpose shape: \", poly_AT.shape)\n",
    "print (\"***************************\")"
   ]
  },
  {
   "cell_type": "markdown",
   "metadata": {},
   "source": [
    "## Predict training labels using Polynomial Regression"
   ]
  },
  {
   "cell_type": "code",
   "execution_count": 32,
   "metadata": {
    "scrolled": true
   },
   "outputs": [
    {
     "name": "stdout",
     "output_type": "stream",
     "text": [
      "***********************************\n",
      "predictedLabels's shape:  (60000,)\n",
      "***********************************\n"
     ]
    }
   ],
   "source": [
    "# prepare a list of predicted labels. We will compare this list against actual training labels to calculate accuracy.\n",
    "predictedLabel = []\n",
    "\n",
    "# Run Polynomial Regression on each training sample.\n",
    "for j in range(60000):\n",
    "    # prepare a list of results for each digit from 0 to 9.\n",
    "    result = []\n",
    "    \n",
    "    # Loop through each digit label and run Polynomial Regression. Append the output to \"result\" list.\n",
    "    for i in range(10):\n",
    "        result.append(poly_AT[i].T.dot(poly_Y[j]))\n",
    "    \n",
    "    # Choose the class with highest probability\n",
    "    predictedLabel.append(result.index(max(result)))\n",
    "\n",
    "# Covert it to an nparray\n",
    "predictedLabels = np.asarray(predictedLabel)\n",
    "\n",
    "print (\"***********************************\")\n",
    "print (\"predictedLabels's shape: \", predictedLabels.shape)\n",
    "print (\"***********************************\")"
   ]
  },
  {
   "cell_type": "markdown",
   "metadata": {},
   "source": [
    "## Find number of accurate predictions and calculate accuracy"
   ]
  },
  {
   "cell_type": "code",
   "execution_count": 33,
   "metadata": {
    "scrolled": true
   },
   "outputs": [
    {
     "name": "stdout",
     "output_type": "stream",
     "text": [
      "***************************\n",
      "Training accuracy:  94.0\n",
      "***************************\n"
     ]
    }
   ],
   "source": [
    "# Find total number of accurate results\n",
    "accuratePredictions = np.sum(sortedTrainLabels==predictedLabels)\n",
    "\n",
    "# Calculate accuracy %\n",
    "trainAccuracy = (accuratePredictions/60000)*100\n",
    "\n",
    "# print accuracy %\n",
    "print (\"***************************\")\n",
    "print (\"Training accuracy: \", trainAccuracy.round(2))\n",
    "print (\"***************************\")"
   ]
  },
  {
   "cell_type": "markdown",
   "metadata": {},
   "source": [
    "## Generate Y matrix for test data for Polynomial Regression"
   ]
  },
  {
   "cell_type": "code",
   "execution_count": 34,
   "metadata": {},
   "outputs": [
    {
     "name": "stdout",
     "output_type": "stream",
     "text": [
      "***************************\n",
      "Y's shape:  (10000, 496)\n",
      "***************************\n"
     ]
    }
   ],
   "source": [
    "# Create a list for Y matrix used in Polynomial Regression\n",
    "poly_yTest = []\n",
    "\n",
    "for y in (yTest):\n",
    "    # Generate combinations of polynomial terms based on polynomial order.\n",
    "    combinations = np.asarray(list(combinations_with_replacement(y,POLYNOMIAL_ORDER)))\n",
    "    # Get a product of each combination\n",
    "    prodCombinations = np.prod(combinations,axis=1)\n",
    "    # Append each product to polynomial Y matrix\n",
    "    poly_yTest.append(prodCombinations)\n",
    "\n",
    "# Convert it to nparray type.\n",
    "poly_yTest = np.asarray(poly_yTest)\n",
    "\n",
    "print (\"***************************\")\n",
    "print (\"Y's shape: \", poly_yTest.shape)\n",
    "print (\"***************************\")"
   ]
  },
  {
   "cell_type": "markdown",
   "metadata": {},
   "source": [
    "## Predict test labels using Polynomial Regression"
   ]
  },
  {
   "cell_type": "code",
   "execution_count": 35,
   "metadata": {
    "scrolled": true
   },
   "outputs": [
    {
     "name": "stdout",
     "output_type": "stream",
     "text": [
      "***********************************\n",
      "predictedLabels's shape:  (10000,)\n",
      "***********************************\n"
     ]
    }
   ],
   "source": [
    "# prepare a list of predicted labels. We will compare this list against actual training labels to calculate accuracy.\n",
    "predictedLabel = []\n",
    "\n",
    "# Run Linear Regression on each test sample.\n",
    "for j in range(10000):\n",
    "    # prepare a list of results for each digit from 0 to 9.\n",
    "    result = []\n",
    "    \n",
    "    # Loop through each digit label and run Linear Regression. Append the output to \"result\" list.\n",
    "    for i in range(10):\n",
    "        result.append(poly_AT[i].T.dot(poly_yTest[j]))\n",
    "    \n",
    "    # Choose the class with highest probability\n",
    "    predictedLabel.append(result.index(max(result)))\n",
    "\n",
    "# Covert it to an nparray\n",
    "predictedLabels = np.asarray(predictedLabel)\n",
    "\n",
    "print (\"***********************************\")\n",
    "print (\"predictedLabels's shape: \", predictedLabels.shape)\n",
    "print (\"***********************************\")"
   ]
  },
  {
   "cell_type": "markdown",
   "metadata": {},
   "source": [
    "## Find number of accurate predictions and calculate accuracy"
   ]
  },
  {
   "cell_type": "code",
   "execution_count": 36,
   "metadata": {},
   "outputs": [
    {
     "name": "stdout",
     "output_type": "stream",
     "text": [
      "***************************\n",
      "Test accuracy:  93.9\n",
      "***************************\n"
     ]
    }
   ],
   "source": [
    "# Find total number of accurate results\n",
    "accuratePredictions = np.sum(testLabels==predictedLabels)\n",
    "\n",
    "# Calculate accuracy %\n",
    "testAccuracy = (accuratePredictions/10000)*100\n",
    "\n",
    "# print accuracy %\n",
    "print (\"***************************\")\n",
    "print (\"Test accuracy: \", testAccuracy.round(2))\n",
    "print (\"***************************\")"
   ]
  },
  {
   "cell_type": "markdown",
   "metadata": {},
   "source": [
    "# (d) Possible techniques/tricks to improve the test accuracy."
   ]
  },
  {
   "cell_type": "markdown",
   "metadata": {},
   "source": [
    "In general, Polynomial regression gives better accuracy compared to Linear Regression. However, Polynomial Regression has higher execution time compared to Linear Regression.\n",
    "\n",
    "We can increase the test accuracy using following techniques.\n",
    "\n",
    "**1)\tIncrease number of Eigenvectors**\n",
    "\n",
    "We can increase the accuracy by Increasing the number of eigenvectors. We can simply modify **TOP_EIGENVECTORS** constant to modify the number of top eigenvectors.\n",
    " \n",
    "The accuracy improves as we use higher than 30 dimensional eigen-digits. Following table shows the test accuracy with different eigen-digit dimensions. The execution time also increases drastically as we increase number of eigen vectors. Hence, we have to find a balance between accuracy and execution time.\n",
    "\n",
    "![Eigenvectors_Performance](img/Eigenvector_results.png)\n",
    "\n",
    "\n",
    "**2)\tIncrease Polynomial Order**\n",
    "\n",
    "We can increase the test accuracy by increasing the Polynomial Order. The execution time also increases dramatically with increasing Polynomial Order. This is because the number of combinations of polynomial terms in the discriminant function increases exponentially with increasing polynomial order.\n",
    "We can modify the polynomial order by simply modifying **POLYNOMIAL_ORDER** constant.\n",
    "\n",
    "The accuracy improves as we use higher order Polynomial Regression. Following table shows the test accuracy with different Polynomial orders. The execution time also increases significantly as we increase the Polynomial order. Hence, we have to find a balance between accuracy and execution time.\n",
    "\n",
    "![PolyOrder_Performance](img/PolyOrder_results.png)\n",
    "\n",
    "**3)\tIncluding Bias term**\n",
    "Bias term helps to increase the accuracy for Polynomial Regression. We can include or remove bias term by simply modifying **INCLUDE_BIAS** constant. It was observed that including Bias term improves the test accuracy slightly.\n",
    "\n",
    "![Bias](img/Bias_results.png)\n",
    "\n"
   ]
  }
 ],
 "metadata": {
  "kernelspec": {
   "display_name": "Python 3",
   "language": "python",
   "name": "python3"
  },
  "language_info": {
   "codemirror_mode": {
    "name": "ipython",
    "version": 3
   },
   "file_extension": ".py",
   "mimetype": "text/x-python",
   "name": "python",
   "nbconvert_exporter": "python",
   "pygments_lexer": "ipython3",
   "version": "3.7.4"
  }
 },
 "nbformat": 4,
 "nbformat_minor": 2
}
